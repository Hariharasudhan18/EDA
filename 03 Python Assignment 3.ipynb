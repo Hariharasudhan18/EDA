{
 "cells": [
  {
   "cell_type": "markdown",
   "metadata": {},
   "source": [
    "### Write a Python Program to implement your own myreduce() function which works exactly like Python's built-in function reduce()"
   ]
  },
  {
   "cell_type": "code",
   "execution_count": 1,
   "metadata": {},
   "outputs": [],
   "source": [
    "def myreduce(number):\n",
    "    num_list = list(range(1, number+1))\n",
    "    product = 1\n",
    "    for x in num_list:\n",
    "        product = product* x\n",
    "    print(product)"
   ]
  },
  {
   "cell_type": "code",
   "execution_count": 2,
   "metadata": {},
   "outputs": [
    {
     "name": "stdout",
     "output_type": "stream",
     "text": [
      "120\n"
     ]
    }
   ],
   "source": [
    "myreduce(5)"
   ]
  },
  {
   "cell_type": "markdown",
   "metadata": {},
   "source": [
    "### Write a Python program to implement your own myfilter() function which works exactly like Python's built-in function filter()"
   ]
  },
  {
   "cell_type": "code",
   "execution_count": 3,
   "metadata": {},
   "outputs": [],
   "source": [
    "def myfilter(number):\n",
    "    num_list = list(range(1, number+1))\n",
    "    even_num_list=[]\n",
    "    for x in num_list:\n",
    "        if x%2 ==0:\n",
    "            even_num_list.append(x)\n",
    "    print(even_num_list)"
   ]
  },
  {
   "cell_type": "code",
   "execution_count": 4,
   "metadata": {},
   "outputs": [
    {
     "name": "stdout",
     "output_type": "stream",
     "text": [
      "[2, 4, 6, 8, 10]\n"
     ]
    }
   ],
   "source": [
    "myfilter(10)"
   ]
  },
  {
   "cell_type": "markdown",
   "metadata": {},
   "source": [
    "### Implement List comprehensions to produce the following lists.\n",
    "##### Write List comprehensions to produce the following Lists\n",
    "##### ['x', 'xx', 'xxx', 'xxxx', 'y', 'yy', 'yyy', 'yyyy', 'z', 'zz', 'zzz', 'zzzz']\n",
    "##### ['x', 'y', 'z', 'xx', 'yy', 'zz', 'xxx', 'yyy', 'zzz', 'xxxx', 'yyyy', 'zzzz']\n",
    "##### [[2], [3], [4], [3], [4], [5], [4], [5], [6]] \n",
    "##### [[2, 3, 4, 5], [3, 4, 5, 6], [4, 5, 6, 7], [5, 6, 7, 8]]\n",
    "##### [(1, 1), (2, 1), (3, 1), (1, 2), (2, 2), (3, 2), (1, 3), (2, 3), (3, 3)]"
   ]
  },
  {
   "cell_type": "code",
   "execution_count": 5,
   "metadata": {},
   "outputs": [
    {
     "name": "stdout",
     "output_type": "stream",
     "text": [
      "Result 1: ['x', 'xx', 'xxx', 'xxxx', 'y', 'yy', 'yyy', 'yyyy', 'z', 'zz', 'zzz', 'zzzz'] \n",
      "\n",
      "Result 2: ['x', 'y', 'z', 'xx', 'yy', 'zz', 'xxx', 'yyy', 'zzz', 'xxxx', 'yyyy', 'zzzz'] \n",
      "\n",
      "Result 3: [[2], [3], [4], [3], [4], [5], [4], [5], [6]] \n",
      "\n",
      "Result 4: [[2, 3, 4, 5], [3, 4, 5, 6], [4, 5, 6, 7], [5, 6, 7, 8]] \n",
      "\n",
      "Result 5 [(1, 1), (2, 1), (3, 1), (1, 2), (2, 2), (3, 2), (1, 3), (2, 3), (3, 3)] \n",
      "\n"
     ]
    }
   ],
   "source": [
    "word_1 = list('xyz')\n",
    "word_2 = [x*n for x in word_1 for n in range(1,5)]\n",
    "print(\"Result 1:\",word_2,\"\\n\")\n",
    "\n",
    "word_3 = [x*n for n in range(1,5) for x in word_1]\n",
    "print(\"Result 2:\",word_3,\"\\n\")\n",
    "\n",
    "number = [2,3,4]\n",
    "number_1 =[[x+n] for x in number for n in range(0,3)]\n",
    "print(\"Result 3:\", number_1,\"\\n\")\n",
    "\n",
    "number_2 = [2,3,4,5]\n",
    "number_3 = [[x+n for x in range(0,4)]for n in number_2]\n",
    "print(\"Result 4:\", number_3,\"\\n\")\n",
    "\n",
    "number_4 = [1,2,3]\n",
    "number_5 = [(b,a) for a in number_4 for b in number_4]\n",
    "print(\"Result 5\", number_5,\"\\n\")"
   ]
  }
 ],
 "metadata": {
  "kernelspec": {
   "display_name": "Python 3",
   "language": "python",
   "name": "python3"
  },
  "language_info": {
   "codemirror_mode": {
    "name": "ipython",
    "version": 3
   },
   "file_extension": ".py",
   "mimetype": "text/x-python",
   "name": "python",
   "nbconvert_exporter": "python",
   "pygments_lexer": "ipython3",
   "version": "3.8.5"
  }
 },
 "nbformat": 4,
 "nbformat_minor": 4
}
